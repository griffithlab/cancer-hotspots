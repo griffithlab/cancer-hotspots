{
 "cells": [
  {
   "cell_type": "code",
   "execution_count": 8,
   "metadata": {},
   "outputs": [
    {
     "name": "stderr",
     "output_type": "stream",
     "text": [
      "/var/folders/88/9g_k1yyx7lsg15hh18vztppm0000gn/T/ipykernel_90839/422097414.py:2: UserWarning: \n",
      "The dash_core_components package is deprecated. Please replace\n",
      "`import dash_core_components as dcc` with `from dash import dcc`\n",
      "  import dash_core_components as dcc\n"
     ]
    }
   ],
   "source": [
    "import dash\n",
    "import dash_core_components as dcc\n",
    "import dash_html_components as html\n",
    "from dash.dependencies import Input, Output\n",
    "from jupyter_dash import JupyterDash\n",
    "import pandas as pd\n",
    "import plotly.express as px"
   ]
  },
  {
   "cell_type": "code",
   "execution_count": 2,
   "metadata": {},
   "outputs": [],
   "source": [
    "gene_exp_df = pd.read_csv('/Users/anamikabasu/Code/Neoantigen_Portal/Portal_version2/TCGA/formatted_gene_expression_matrix.csv')\n",
    "gene_exp_df.set_index(\"gene_id\", inplace=True)\n",
    "gene_df = pd.read_csv('/Users/anamikabasu/Code/Neoantigen_Portal/Portal_version2/TCGA/genes_list.csv', header=None)\n",
    "tumors = list(gene_exp_df['tumor'].unique())\n",
    "genes = list(gene_df.iloc[:, 0])"
   ]
  },
  {
   "cell_type": "code",
   "execution_count": 96,
   "metadata": {},
   "outputs": [
    {
     "name": "stdout",
     "output_type": "stream",
     "text": [
      "Dash app running on http://127.0.0.1:8050/\n"
     ]
    },
    {
     "name": "stderr",
     "output_type": "stream",
     "text": [
      "/var/folders/88/9g_k1yyx7lsg15hh18vztppm0000gn/T/ipykernel_90839/3692791545.py:46: SettingWithCopyWarning:\n",
      "\n",
      "\n",
      "A value is trying to be set on a copy of a slice from a DataFrame.\n",
      "Try using .loc[row_indexer,col_indexer] = value instead\n",
      "\n",
      "See the caveats in the documentation: https://pandas.pydata.org/pandas-docs/stable/user_guide/indexing.html#returning-a-view-versus-a-copy\n",
      "\n",
      "Exception in thread Thread-1907:\n",
      "Traceback (most recent call last):\n",
      "  File \"/Users/anamikabasu/anaconda3/envs/myenv/lib/python3.9/threading.py\", line 973, in _bootstrap_inner\n",
      "    self.run()\n",
      "  File \"/Users/anamikabasu/anaconda3/envs/myenv/lib/python3.9/threading.py\", line 910, in run\n",
      "    self._target(*self._args, **self._kwargs)\n",
      "  File \"/Users/anamikabasu/anaconda3/envs/myenv/lib/python3.9/site-packages/dash/dash.py\", line 1738, in <lambda>\n",
      "    target=lambda: _watch.watch(\n",
      "  File \"/Users/anamikabasu/anaconda3/envs/myenv/lib/python3.9/site-packages/dash/_watch.py\", line 35, in watch\n",
      "    walk()\n",
      "  File \"/Users/anamikabasu/anaconda3/envs/myenv/lib/python3.9/site-packages/dash/_watch.py\", line 20, in walk\n",
      "    info = os.stat(path)\n",
      "FileNotFoundError: [Errno 2] No such file or directory: '/Users/anamikabasu/Code/Neoantigen_Portal/Portal_version2/Dash/assets/.~style.css'\n"
     ]
    }
   ],
   "source": [
    "external_stylesheets = [\"assets/style.css\"]\n",
    "app = JupyterDash(__name__, external_stylesheets=external_stylesheets)\n",
    "\n",
    "app.layout = html.Div([\n",
    "    html.Div(children=[\n",
    "        html.Div(children = [\n",
    "            \n",
    "            html.Div(id = 'tumor_text', children=['Tumor:']),\n",
    "            dcc.Dropdown(\n",
    "                id='tumor_dropdown',\n",
    "                options=[{'label': i, 'value': i} for i in sorted(tumors)],\n",
    "                value='Adrenocortical carcinoma',\n",
    "                searchable=False, \n",
    "                clearable=False \n",
    "            ),\n",
    "            \n",
    "            html.Br(),\n",
    "\n",
    "            html.Div(id='gene_text',children=['Gene:']),\n",
    "            dcc.Dropdown(\n",
    "                id='gene_dropdown',\n",
    "                options=[{'label': i, 'value': i} for i in sorted(genes)],\n",
    "                value='MTOR',\n",
    "                searchable=False, \n",
    "                clearable=False\n",
    "            )\n",
    "\n",
    "        ], id=\"menu\"),\n",
    "        html.Div(children = [\n",
    "            dcc.Graph(\n",
    "                id='violin_plot'\n",
    "            )\n",
    "        ], id=\"expression_plot\")\n",
    "    ], id=\"top_panel\")\n",
    "])\n",
    "\n",
    "\n",
    "@app.callback(\n",
    "    Output('violin_plot', 'figure'),\n",
    "    Input('tumor_dropdown', 'value'),\n",
    "    Input('gene_dropdown', 'value'),\n",
    ")\n",
    "def update_output(tumor, gene):\n",
    "    df = gene_exp_df.loc[gene]\n",
    "    tumor_selected = [\"yes\" if t == tumor else \"no\" for t in list(df[\"tumor\"])] \n",
    "    df[\"tumor_selected\"] = tumor_selected\n",
    "    color_discrete_map = {'yes': 'orange', 'no': 'blue'}\n",
    "    fig = px.violin(df, y=\"gene_expression\", x=\"tumor\", color=\"tumor_selected\", box=True, color_discrete_map=color_discrete_map)\n",
    "    fig.update_xaxes(categoryorder='category ascending')\n",
    "    fig.update_yaxes(title=\"log(RSEM + 1)\")\n",
    "    fig.update_layout(title=f'{gene} Gene Expression', xaxis_title=None, showlegend=False)\n",
    "    \n",
    "    return fig\n",
    "\n",
    "\n",
    "if __name__ == '__main__':\n",
    "    app.run_server(debug=True)"
   ]
  },
  {
   "cell_type": "code",
   "execution_count": null,
   "metadata": {},
   "outputs": [],
   "source": []
  }
 ],
 "metadata": {
  "kernelspec": {
   "display_name": "Python 3 (ipykernel)",
   "language": "python",
   "name": "python3"
  },
  "language_info": {
   "codemirror_mode": {
    "name": "ipython",
    "version": 3
   },
   "file_extension": ".py",
   "mimetype": "text/x-python",
   "name": "python",
   "nbconvert_exporter": "python",
   "pygments_lexer": "ipython3",
   "version": "3.9.7"
  }
 },
 "nbformat": 4,
 "nbformat_minor": 4
}
